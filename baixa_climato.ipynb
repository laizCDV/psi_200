{
 "cells": [
  {
   "cell_type": "code",
   "execution_count": 2,
   "metadata": {},
   "outputs": [],
   "source": [
    "#-----------------------------------------------------------------------------------------------------------\n",
    "import warnings\n",
    "warnings.filterwarnings(\"ignore\")\n",
    "import time as t\n",
    "from datetime import datetime, timedelta, date \n",
    "from dateutil.relativedelta import *\n",
    "from netCDF4 import Dataset   \n",
    "from glob import glob\n",
    "import requests \n",
    "import pandas as pd\n",
    "import xarray as xr\n",
    "import requests \n",
    "import functools\n",
    "import operator\n",
    "import wget\n",
    "import os\n",
    "import gc\n",
    "import numpy as np\n",
    "import pygrib\n",
    "import seaborn as sns\n",
    "from sklearn.linear_model import LinearRegression\n",
    "from scipy import signal\n",
    "from statsmodels.tsa.seasonal import seasonal_decompose\n",
    "from sklearn.metrics import mean_squared_error, r2_score\n",
    "from sklearn.preprocessing import PolynomialFeatures\n",
    "from statsmodels.tsa.seasonal import seasonal_decompose\n",
    "from sklearn.decomposition import PCA\n",
    "from statsmodels.tsa.stattools import adfuller\n",
    "import datetime\n",
    "import holidays\n",
    "import xarray as xr\n",
    "\n",
    "\n",
    "import matplotlib.pyplot as plt\n",
    "import geopandas as gpd\n",
    "import shapely\n",
    "import shapefile\n",
    "import cartopy.io.shapereader as shpreader\n",
    "import cartopy.feature as cfeature\n",
    "import cartopy, cartopy.crs as ccrs   \n",
    "import regionmask\n",
    "from shapely.geometry import Point, Polygon\n",
    "\n",
    "from matplotlib import pyplot as plt\n",
    "import matplotlib.colors as mcolors\n",
    "import matplotlib.ticker as mticker \n",
    "import scipy.ndimage as ndimage\n",
    "from PIL import Image\n",
    "\n",
    "import pygrib\n",
    "import wget \n",
    "import datetime as dt\n",
    "from dateutil.relativedelta import relativedelta\n"
   ]
  },
  {
   "cell_type": "code",
   "execution_count": null,
   "metadata": {},
   "outputs": [],
   "source": [
    "di=d=dt.datetime(2011,1,1)\n",
    "d=di\n",
    "df=dt.datetime(2021,1,1)\n",
    "i=0\n",
    "while d<df:\n",
    "    d=di+relativedelta(months=i)\n",
    "    i=i+1\n",
    "    ##\n",
    "    base='https://data.rda.ucar.edu/ds094.2/regular/'\n",
    "    file='pgbl.gdas.%04d%02d.tar'%(d.year,d.month)\n",
    "    print(file)\n",
    "    response = wget.download(base+file)"
   ]
  }
 ],
 "metadata": {
  "kernelspec": {
   "display_name": "env2",
   "language": "python",
   "name": "python3"
  },
  "language_info": {
   "codemirror_mode": {
    "name": "ipython",
    "version": 3
   },
   "file_extension": ".py",
   "mimetype": "text/x-python",
   "name": "python",
   "nbconvert_exporter": "python",
   "pygments_lexer": "ipython3",
   "version": "3.11.3"
  },
  "orig_nbformat": 4
 },
 "nbformat": 4,
 "nbformat_minor": 2
}
