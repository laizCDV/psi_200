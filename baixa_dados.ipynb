{
 "cells": [
  {
   "cell_type": "code",
   "execution_count": 7,
   "metadata": {},
   "outputs": [],
   "source": [
    "#-----------------------------------------------------------------------------------------------------------\n",
    "import warnings\n",
    "warnings.filterwarnings(\"ignore\")\n",
    "import time as t\n",
    "from datetime import datetime, timedelta, date \n",
    "from dateutil.relativedelta import *\n",
    "from netCDF4 import Dataset   \n",
    "import glob\n",
    "import requests \n",
    "import pandas as pd\n",
    "import xarray as xr\n",
    "import requests \n",
    "import functools\n",
    "import operator\n",
    "import wget\n",
    "import os\n",
    "import gc\n",
    "import numpy as np\n",
    "import pygrib\n",
    "import seaborn as sns\n",
    "from sklearn.linear_model import LinearRegression\n",
    "from scipy import signal\n",
    "from statsmodels.tsa.seasonal import seasonal_decompose\n",
    "from sklearn.metrics import mean_squared_error, r2_score\n",
    "from sklearn.preprocessing import PolynomialFeatures\n",
    "from statsmodels.tsa.seasonal import seasonal_decompose\n",
    "from sklearn.decomposition import PCA\n",
    "from statsmodels.tsa.stattools import adfuller\n",
    "import datetime\n",
    "import holidays\n",
    "\n",
    "\n",
    "import matplotlib.pyplot as plt\n",
    "import geopandas as gpd\n",
    "import shapely\n",
    "import shapefile\n",
    "import cartopy.io.shapereader as shpreader\n",
    "import cartopy.feature as cfeature\n",
    "import cartopy, cartopy.crs as ccrs   \n",
    "import regionmask\n",
    "from shapely.geometry import Point, Polygon\n",
    "\n",
    "from matplotlib import pyplot as plt\n",
    "import matplotlib.colors as mcolors\n",
    "import matplotlib.ticker as mticker \n",
    "import scipy.ndimage as ndimage\n",
    "from PIL import Image\n"
   ]
  },
  {
   "cell_type": "code",
   "execution_count": 23,
   "metadata": {},
   "outputs": [
    {
     "name": "stdout",
     "output_type": "stream",
     "text": [
      "['20230529', '20230528', '20230527', '20230526', '20230525', '20230524']\n"
     ]
    }
   ],
   "source": [
    "#Loop para puxar os dados \n",
    "data_list = []\n",
    "#atual\n",
    "data_atual = datetime.datetime.now().date()\n",
    "\n",
    "for i in range(6):\n",
    "\n",
    "    data = data_atual - datetime.timedelta(days=i)\n",
    "    \n",
    "    # horários \n",
    "    for hora in [0]:\n",
    "        data_hora = datetime.datetime.combine(data, datetime.time(hora))\n",
    "        data_hora = data_hora.strftime('%Y%m%d')\n",
    "        data_list.append(data_hora)\n",
    "        # print(data_hora)\n",
    "\n",
    "print(data_list)        \n"
   ]
  },
  {
   "cell_type": "code",
   "execution_count": null,
   "metadata": {},
   "outputs": [],
   "source": [
    "\n"
   ]
  },
  {
   "cell_type": "code",
   "execution_count": 25,
   "metadata": {},
   "outputs": [
    {
     "name": "stdout",
     "output_type": "stream",
     "text": [
      "------------------------------------\n",
      " Download Data \n",
      "------------------------------------\n",
      "Arquivo dados_grib/psi200_01_2023052900.grb2 baixado\n",
      "Arquivo dados_grib/psi200_02_2023052900.grb2 baixado\n",
      "Arquivo dados_grib/psi200_03_2023052900.grb2 baixado\n",
      "Arquivo dados_grib/psi200_04_2023052900.grb2 baixado\n",
      "Arquivo dados_grib/psi200_01_2023052800.grb2 baixado\n",
      "Arquivo dados_grib/psi200_02_2023052800.grb2 baixado\n",
      "Arquivo dados_grib/psi200_03_2023052800.grb2 baixado\n",
      "Arquivo dados_grib/psi200_04_2023052800.grb2 baixado\n",
      "Arquivo dados_grib/psi200_01_2023052700.grb2 baixado\n",
      "Arquivo dados_grib/psi200_02_2023052700.grb2 baixado\n",
      "Arquivo dados_grib/psi200_03_2023052700.grb2 baixado\n",
      "Arquivo dados_grib/psi200_04_2023052700.grb2 baixado\n",
      "Arquivo dados_grib/psi200_01_2023052600.grb2 baixado\n",
      "Arquivo dados_grib/psi200_02_2023052600.grb2 baixado\n",
      "Arquivo dados_grib/psi200_03_2023052600.grb2 baixado\n",
      "Arquivo dados_grib/psi200_04_2023052600.grb2 baixado\n",
      "Arquivo dados_grib/psi200_01_2023052500.grb2 baixado\n",
      "Arquivo dados_grib/psi200_02_2023052500.grb2 baixado\n",
      "Arquivo dados_grib/psi200_03_2023052500.grb2 baixado\n",
      "Arquivo dados_grib/psi200_04_2023052500.grb2 baixado\n",
      "Arquivo dados_grib/psi200_01_2023052400.grb2 baixado\n",
      "Arquivo dados_grib/psi200_02_2023052400.grb2 baixado\n",
      "Arquivo dados_grib/psi200_03_2023052400.grb2 baixado\n",
      "Arquivo dados_grib/psi200_04_2023052400.grb2 baixado\n"
     ]
    }
   ],
   "source": [
    "#Download d \n",
    "#-----------------------------------------\n",
    "import urllib.request\n",
    "#-----------------------------------------\n",
    "\n",
    "print('------------------------------------')\n",
    "print(' Download Data ')\n",
    "print('------------------------------------')\n",
    "\n",
    "\n",
    "data_list\n",
    "rodada = '00' \n",
    "membros = ['01', '02','03','04']\n",
    "\n",
    "\n",
    "# Loop para baixar os arquivos \n",
    "for d in data_list:\n",
    "\n",
    "    for membro in membros:\n",
    "        #  \n",
    "        path = f\"https://ftp.ncep.noaa.gov/data/nccf/com/cfs/prod/cfs.{d}/{rodada}/time_grib_{membro}/psi200.{membro}.{d}{rodada}.daily.grb2\"\n",
    "        # Nome do arquivo para salvar\n",
    "        filename = f\"dados_grib/psi200_{membro}_{d}{rodada}.grb2\"\n",
    "        # Baixar o arquivo usando a biblioteca urllib.request\n",
    "        urllib.request.urlretrieve(path, filename)\n",
    "        print(f\"Arquivo {filename} baixado\")\n"
   ]
  },
  {
   "cell_type": "code",
   "execution_count": null,
   "metadata": {},
   "outputs": [],
   "source": []
  }
 ],
 "metadata": {
  "kernelspec": {
   "display_name": "env2",
   "language": "python",
   "name": "python3"
  },
  "language_info": {
   "codemirror_mode": {
    "name": "ipython",
    "version": 3
   },
   "file_extension": ".py",
   "mimetype": "text/x-python",
   "name": "python",
   "nbconvert_exporter": "python",
   "pygments_lexer": "ipython3",
   "version": "3.11.3"
  },
  "orig_nbformat": 4
 },
 "nbformat": 4,
 "nbformat_minor": 2
}
