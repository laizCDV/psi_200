{
 "cells": [
  {
   "cell_type": "code",
   "execution_count": 1,
   "metadata": {},
   "outputs": [],
   "source": [
    "#-----------------------------------------------------------------------------------------------------------\n",
    "import warnings\n",
    "warnings.filterwarnings(\"ignore\")\n",
    "import time as t\n",
    "from datetime import datetime, timedelta, date \n",
    "from dateutil.relativedelta import *\n",
    "from netCDF4 import Dataset   \n",
    "import glob\n",
    "import requests \n",
    "import pandas as pd\n",
    "import xarray as xr\n",
    "import requests \n",
    "import functools\n",
    "import operator\n",
    "import wget\n",
    "import os\n",
    "import gc\n",
    "import numpy as np\n",
    "import pygrib\n",
    "import seaborn as sns\n",
    "from sklearn.linear_model import LinearRegression\n",
    "from scipy import signal\n",
    "from statsmodels.tsa.seasonal import seasonal_decompose\n",
    "from sklearn.metrics import mean_squared_error, r2_score\n",
    "from sklearn.preprocessing import PolynomialFeatures\n",
    "from statsmodels.tsa.seasonal import seasonal_decompose\n",
    "from sklearn.decomposition import PCA\n",
    "from statsmodels.tsa.stattools import adfuller\n",
    "import datetime\n",
    "import holidays\n",
    "import xarray as xr\n",
    "\n",
    "\n",
    "import matplotlib.pyplot as plt\n",
    "import geopandas as gpd\n",
    "import shapely\n",
    "import shapefile\n",
    "import cartopy.io.shapereader as shpreader\n",
    "import cartopy.feature as cfeature\n",
    "import cartopy, cartopy.crs as ccrs   \n",
    "import regionmask\n",
    "from shapely.geometry import Point, Polygon\n",
    "\n",
    "from matplotlib import pyplot as plt\n",
    "import matplotlib.colors as mcolors\n",
    "import matplotlib.ticker as mticker \n",
    "import scipy.ndimage as ndimage\n",
    "from PIL import Image\n",
    "from glob import glob\n",
    "\n",
    "\n",
    "#-----METPY---------------------\n",
    "import metpy.calc as mpcalc\n",
    "from metpy.cbook import get_test_data\n",
    "from metpy.interpolate import cross_section\n",
    "from mpl_toolkits.axes_grid1 import make_axes_locatable"
   ]
  },
  {
   "cell_type": "code",
   "execution_count": 2,
   "metadata": {},
   "outputs": [
    {
     "data": {
      "text/plain": [
       "['/mnt/c/scripts/temas/stream_plot/dados_grib/psi200_01_2023052500.grb2',\n",
       " '/mnt/c/scripts/temas/stream_plot/dados_grib/psi200_01_2023052600.grb2',\n",
       " '/mnt/c/scripts/temas/stream_plot/dados_grib/psi200_01_2023052700.grb2',\n",
       " '/mnt/c/scripts/temas/stream_plot/dados_grib/psi200_01_2023052800.grb2',\n",
       " '/mnt/c/scripts/temas/stream_plot/dados_grib/psi200_01_2023052900.grb2',\n",
       " '/mnt/c/scripts/temas/stream_plot/dados_grib/psi200_01_2023053000.grb2',\n",
       " '/mnt/c/scripts/temas/stream_plot/dados_grib/psi200_01_2023053100.grb2']"
      ]
     },
     "execution_count": 2,
     "metadata": {},
     "output_type": "execute_result"
    }
   ],
   "source": [
    "\n",
    "files= glob('/mnt/c/scripts/temas/stream_plot/dados_grib//psi200_01*.grb2')\n",
    "li = sorted(files)\n",
    "li"
   ]
  },
  {
   "cell_type": "code",
   "execution_count": 33,
   "metadata": {},
   "outputs": [
    {
     "name": "stdout",
     "output_type": "stream",
     "text": [
      " Read: 01 /mnt/c/scripts/temas/stream_plot/dados_grib/psi200_01_2023052500.grb2\n",
      " Read: 01 /mnt/c/scripts/temas/stream_plot/dados_grib/psi200_01_2023052600.grb2\n",
      " Read: 01 /mnt/c/scripts/temas/stream_plot/dados_grib/psi200_01_2023052700.grb2\n",
      " Read: 01 /mnt/c/scripts/temas/stream_plot/dados_grib/psi200_01_2023052800.grb2\n",
      " Read: 01 /mnt/c/scripts/temas/stream_plot/dados_grib/psi200_01_2023052900.grb2\n",
      " Read: 01 /mnt/c/scripts/temas/stream_plot/dados_grib/psi200_01_2023053000.grb2\n",
      " Read: 01 /mnt/c/scripts/temas/stream_plot/dados_grib/psi200_01_2023053100.grb2\n"
     ]
    }
   ],
   "source": [
    "#Date range de previsões entre as rodadas \n",
    "\n",
    "data_atual = datetime.datetime.now().date()\n",
    "\n",
    "start_time = data_atual + relativedelta(months=1)\n",
    "\n",
    "end_time = start_time + relativedelta(months=7) \n",
    "\n",
    "\n",
    "\n",
    "#Referencias\n",
    "start =  pd.to_datetime(start_time, format='%Y-%m')\n",
    "\n",
    "end = pd.to_datetime(end_time, format='%Y-%m')\n",
    "\n",
    "\n",
    "date_range = list(pd.date_range(start, end, freq='M'))\n",
    "\n",
    "data_list = []\n",
    "\n",
    "#--------- Loop------------------------------- \n",
    "for q in li:\n",
    "\n",
    "    membro = q.split(\"_\")[3]\n",
    "\n",
    "    dataset = xr.open_dataset(q)\n",
    "\n",
    "    dataset = dataset.assign_coords({'number':membro})\n",
    "    \n",
    "    dataset = dataset.swap_dims({\"step\": \"valid_time\"}).drop(['step','isobaricInhPa']) #transforma valid_time em dim e retira a coord step\n",
    "    \n",
    "    valid_time = dataset.valid_time\n",
    "\n",
    "    ds = dataset.sel(valid_time = date_range)\n",
    "\n",
    "    group = ds.groupby('valid_time.month').mean()\n",
    "\n",
    "    ds = ds.to_dataframe()\n",
    "\n",
    "    data_list.append(ds)\n",
    "\n",
    "    print(f\" Read: {membro} {q}\")\n",
    "# -------------------------------------------\n",
    "\n",
    "# Média mensal     \n",
    "\n",
    "df_concat= pd.concat(data_list, axis=0)\n",
    "\n",
    "df_mensal = df_concat.groupby(['latitude','longitude','number','valid_time']) #agrupa por lat/lon e valid_time\n",
    "\n",
    "\n",
    "med_mensal = df_mensal.mean('time') #med de cada rodada \n",
    "\n",
    "med_mensal.head(20)\n"
   ]
  },
  {
   "cell_type": "code",
   "execution_count": 64,
   "metadata": {},
   "outputs": [],
   "source": []
  },
  {
   "cell_type": "code",
   "execution_count": null,
   "metadata": {},
   "outputs": [],
   "source": []
  },
  {
   "cell_type": "code",
   "execution_count": null,
   "metadata": {},
   "outputs": [],
   "source": []
  },
  {
   "cell_type": "code",
   "execution_count": null,
   "metadata": {},
   "outputs": [],
   "source": []
  }
 ],
 "metadata": {
  "kernelspec": {
   "display_name": "env2",
   "language": "python",
   "name": "python3"
  },
  "language_info": {
   "codemirror_mode": {
    "name": "ipython",
    "version": 3
   },
   "file_extension": ".py",
   "mimetype": "text/x-python",
   "name": "python",
   "nbconvert_exporter": "python",
   "pygments_lexer": "ipython3",
   "version": "3.11.3"
  },
  "orig_nbformat": 4
 },
 "nbformat": 4,
 "nbformat_minor": 2
}
