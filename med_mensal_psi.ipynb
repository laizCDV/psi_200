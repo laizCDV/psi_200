{
 "cells": [
  {
   "cell_type": "code",
   "execution_count": 4,
   "metadata": {},
   "outputs": [],
   "source": [
    "#-----------------------------------------------------------------------------------------------------------\n",
    "import warnings\n",
    "warnings.filterwarnings(\"ignore\")\n",
    "import time as t\n",
    "from datetime import datetime, timedelta, date \n",
    "from dateutil.relativedelta import *\n",
    "from netCDF4 import Dataset   \n",
    "import glob\n",
    "import requests \n",
    "import pandas as pd\n",
    "import xarray as xr\n",
    "import requests \n",
    "import functools\n",
    "import operator\n",
    "import wget\n",
    "import os\n",
    "import gc\n",
    "import numpy as np\n",
    "import pygrib\n",
    "import seaborn as sns\n",
    "from sklearn.linear_model import LinearRegression\n",
    "from scipy import signal\n",
    "from statsmodels.tsa.seasonal import seasonal_decompose\n",
    "from sklearn.metrics import mean_squared_error, r2_score\n",
    "from sklearn.preprocessing import PolynomialFeatures\n",
    "from statsmodels.tsa.seasonal import seasonal_decompose\n",
    "from sklearn.decomposition import PCA\n",
    "from statsmodels.tsa.stattools import adfuller\n",
    "import datetime\n",
    "import holidays\n",
    "import xarray as xr\n",
    "\n",
    "\n",
    "import matplotlib.pyplot as plt\n",
    "import geopandas as gpd\n",
    "import shapely\n",
    "import shapefile\n",
    "import cartopy.io.shapereader as shpreader\n",
    "import cartopy.feature as cfeature\n",
    "import cartopy, cartopy.crs as ccrs   \n",
    "import regionmask\n",
    "from shapely.geometry import Point, Polygon\n",
    "\n",
    "from matplotlib import pyplot as plt\n",
    "import matplotlib.colors as mcolors\n",
    "import matplotlib.ticker as mticker \n",
    "import scipy.ndimage as ndimage\n",
    "from PIL import Image\n",
    "from glob import glob\n",
    "\n",
    "\n",
    "#-----METPY---------------------\n",
    "import metpy.calc as mpcalc\n",
    "from metpy.cbook import get_test_data\n",
    "from metpy.interpolate import cross_section\n",
    "from mpl_toolkits.axes_grid1 import make_axes_locatable"
   ]
  },
  {
   "cell_type": "code",
   "execution_count": 5,
   "metadata": {},
   "outputs": [
    {
     "data": {
      "text/plain": [
       "['/mnt/c/scripts/temas/stream_plot/dados_grib/psi200_01_2023052500.grb2',\n",
       " '/mnt/c/scripts/temas/stream_plot/dados_grib/psi200_01_2023052600.grb2',\n",
       " '/mnt/c/scripts/temas/stream_plot/dados_grib/psi200_01_2023052700.grb2',\n",
       " '/mnt/c/scripts/temas/stream_plot/dados_grib/psi200_01_2023052800.grb2',\n",
       " '/mnt/c/scripts/temas/stream_plot/dados_grib/psi200_01_2023052900.grb2',\n",
       " '/mnt/c/scripts/temas/stream_plot/dados_grib/psi200_01_2023053000.grb2',\n",
       " '/mnt/c/scripts/temas/stream_plot/dados_grib/psi200_01_2023053100.grb2']"
      ]
     },
     "execution_count": 5,
     "metadata": {},
     "output_type": "execute_result"
    }
   ],
   "source": [
    "\n",
    "files= glob('/mnt/c/scripts/temas/stream_plot/dados_grib//psi200_01*.grb2')\n",
    "li = sorted(files)\n",
    "li"
   ]
  },
  {
   "cell_type": "code",
   "execution_count": 50,
   "metadata": {},
   "outputs": [],
   "source": [
    "data_atual = datetime.datetime.now().date()\n",
    "\n",
    "start_time = data_atual  #+ relativedelta(months=1)\n",
    "\n",
    "end_time = start_time + relativedelta(months=7) \n",
    "\n",
    "#Referencias\n",
    "start =  pd.to_datetime(start_time, format='%Y-%m')\n",
    "\n",
    "end = pd.to_datetime(end_time, format='%Y-%m')\n",
    "\n",
    "\n",
    "date_range = pd.date_range(start_time,end_time, freq='6H').strftime('%Y-%m-%d %H')"
   ]
  },
  {
   "cell_type": "code",
   "execution_count": null,
   "metadata": {},
   "outputs": [],
   "source": []
  },
  {
   "cell_type": "code",
   "execution_count": null,
   "metadata": {},
   "outputs": [],
   "source": []
  },
  {
   "cell_type": "code",
   "execution_count": 51,
   "metadata": {},
   "outputs": [
    {
     "data": {
      "text/plain": [
       "Index(['2023-06-01 00', '2023-06-01 06', '2023-06-01 12', '2023-06-01 18',\n",
       "       '2023-06-02 00', '2023-06-02 06', '2023-06-02 12', '2023-06-02 18',\n",
       "       '2023-06-03 00', '2023-06-03 06',\n",
       "       ...\n",
       "       '2023-12-29 18', '2023-12-30 00', '2023-12-30 06', '2023-12-30 12',\n",
       "       '2023-12-30 18', '2023-12-31 00', '2023-12-31 06', '2023-12-31 12',\n",
       "       '2023-12-31 18', '2024-01-01 00'],\n",
       "      dtype='object', length=857)"
      ]
     },
     "execution_count": 51,
     "metadata": {},
     "output_type": "execute_result"
    }
   ],
   "source": [
    "date_range"
   ]
  },
  {
   "cell_type": "code",
   "execution_count": 54,
   "metadata": {},
   "outputs": [],
   "source": [
    "membro = li[0].split(\"_\")[3]\n",
    "\n",
    "dataset = xr.open_dataset(li[0])\n",
    "\n",
    "dataset = dataset.assign_coords({'number':membro})\n",
    "\n",
    "dataset = dataset.swap_dims({\"step\": \"valid_time\"}).drop(['step','isobaricInhPa']) #transforma valid_time em dim e retira a coord step\n",
    "\n",
    "valid_time = dataset.valid_time\n",
    "\n",
    "ds = dataset.sel(valid_time = date_range)\n",
    "\n",
    "group1 = ds.groupby('valid_time.month').mean()\n",
    "group1 =group1.to_dataframe()"
   ]
  },
  {
   "cell_type": "code",
   "execution_count": null,
   "metadata": {},
   "outputs": [],
   "source": []
  },
  {
   "cell_type": "code",
   "execution_count": 55,
   "metadata": {},
   "outputs": [],
   "source": [
    "membro = li[2].split(\"_\")[3]\n",
    "\n",
    "dataset = xr.open_dataset(li[2])\n",
    "\n",
    "dataset = dataset.assign_coords({'number':membro})\n",
    "\n",
    "dataset = dataset.swap_dims({\"step\": \"valid_time\"}).drop(['step','isobaricInhPa']) #transforma valid_time em dim e retira a coord step\n",
    "\n",
    "valid_time = dataset.valid_time\n",
    "\n",
    "ds = dataset.sel(valid_time = date_range)\n",
    "\n",
    "group2 = ds.groupby('valid_time.month').mean()\n",
    "group2 = group2.to_dataframe()"
   ]
  },
  {
   "cell_type": "code",
   "execution_count": null,
   "metadata": {},
   "outputs": [],
   "source": []
  },
  {
   "cell_type": "code",
   "execution_count": 61,
   "metadata": {},
   "outputs": [],
   "source": [
    "df_concat= pd.concat([group1,group2], axis=0)\n"
   ]
  },
  {
   "cell_type": "code",
   "execution_count": 62,
   "metadata": {},
   "outputs": [
    {
     "data": {
      "text/plain": [
       "<DatetimeArray>\n",
       "['2023-05-25 00:00:00', '2023-05-27 00:00:00']\n",
       "Length: 2, dtype: datetime64[ns]"
      ]
     },
     "execution_count": 62,
     "metadata": {},
     "output_type": "execute_result"
    }
   ],
   "source": [
    "df_concat.time.unique()"
   ]
  },
  {
   "cell_type": "code",
   "execution_count": 69,
   "metadata": {},
   "outputs": [],
   "source": [
    "med_mensal = df_concat.groupby(['month']).mean('time')"
   ]
  },
  {
   "cell_type": "code",
   "execution_count": 70,
   "metadata": {},
   "outputs": [
    {
     "data": {
      "text/html": [
       "<div>\n",
       "<style scoped>\n",
       "    .dataframe tbody tr th:only-of-type {\n",
       "        vertical-align: middle;\n",
       "    }\n",
       "\n",
       "    .dataframe tbody tr th {\n",
       "        vertical-align: top;\n",
       "    }\n",
       "\n",
       "    .dataframe thead th {\n",
       "        text-align: right;\n",
       "    }\n",
       "</style>\n",
       "<table border=\"1\" class=\"dataframe\">\n",
       "  <thead>\n",
       "    <tr style=\"text-align: right;\">\n",
       "      <th></th>\n",
       "      <th>strf</th>\n",
       "    </tr>\n",
       "    <tr>\n",
       "      <th>month</th>\n",
       "      <th></th>\n",
       "    </tr>\n",
       "  </thead>\n",
       "  <tbody>\n",
       "    <tr>\n",
       "      <th>1</th>\n",
       "      <td>-1.578659e+06</td>\n",
       "    </tr>\n",
       "    <tr>\n",
       "      <th>6</th>\n",
       "      <td>9.778851e+06</td>\n",
       "    </tr>\n",
       "    <tr>\n",
       "      <th>7</th>\n",
       "      <td>1.125792e+07</td>\n",
       "    </tr>\n",
       "    <tr>\n",
       "      <th>8</th>\n",
       "      <td>1.064849e+07</td>\n",
       "    </tr>\n",
       "    <tr>\n",
       "      <th>9</th>\n",
       "      <td>8.364652e+06</td>\n",
       "    </tr>\n",
       "    <tr>\n",
       "      <th>10</th>\n",
       "      <td>5.726113e+06</td>\n",
       "    </tr>\n",
       "    <tr>\n",
       "      <th>11</th>\n",
       "      <td>2.740374e+06</td>\n",
       "    </tr>\n",
       "    <tr>\n",
       "      <th>12</th>\n",
       "      <td>-6.581802e+05</td>\n",
       "    </tr>\n",
       "  </tbody>\n",
       "</table>\n",
       "</div>"
      ],
      "text/plain": [
       "               strf\n",
       "month              \n",
       "1     -1.578659e+06\n",
       "6      9.778851e+06\n",
       "7      1.125792e+07\n",
       "8      1.064849e+07\n",
       "9      8.364652e+06\n",
       "10     5.726113e+06\n",
       "11     2.740374e+06\n",
       "12    -6.581802e+05"
      ]
     },
     "execution_count": 70,
     "metadata": {},
     "output_type": "execute_result"
    }
   ],
   "source": [
    "med_mensal"
   ]
  },
  {
   "cell_type": "code",
   "execution_count": 100,
   "metadata": {},
   "outputs": [
    {
     "name": "stdout",
     "output_type": "stream",
     "text": [
      " Read: 01 /mnt/c/scripts/temas/stream_plot/dados_grib/psi200_01_2023052500.grb2\n",
      " Read: 01 /mnt/c/scripts/temas/stream_plot/dados_grib/psi200_01_2023052600.grb2\n",
      " Read: 01 /mnt/c/scripts/temas/stream_plot/dados_grib/psi200_01_2023052700.grb2\n",
      " Read: 01 /mnt/c/scripts/temas/stream_plot/dados_grib/psi200_01_2023052800.grb2\n",
      " Read: 01 /mnt/c/scripts/temas/stream_plot/dados_grib/psi200_01_2023052900.grb2\n",
      " Read: 01 /mnt/c/scripts/temas/stream_plot/dados_grib/psi200_01_2023053000.grb2\n",
      " Read: 01 /mnt/c/scripts/temas/stream_plot/dados_grib/psi200_01_2023053100.grb2\n"
     ]
    }
   ],
   "source": [
    "#Date range de previsões entre as rodadas \n",
    "\n",
    "data_atual = datetime.datetime.now().date()\n",
    "\n",
    "start_time = data_atual + relativedelta(months=1)\n",
    "\n",
    "end_time = start_time + relativedelta(months=7) \n",
    "\n",
    "\n",
    "\n",
    "#Referencias\n",
    "start =  pd.to_datetime(start_time, format='%Y-%m')\n",
    "\n",
    "end = pd.to_datetime(end_time, format='%Y-%m')\n",
    "\n",
    "\n",
    "date_range = pd.date_range(start_time,end_time, freq='6H').strftime('%Y-%m-%d %H')\n",
    "\n",
    "data_list = []\n",
    "\n",
    "#--------- Loop------------------------------- \n",
    "for q in li:\n",
    "\n",
    "    membro = q.split(\"_\")[3]\n",
    "\n",
    "    dataset = xr.open_dataset(q)\n",
    "\n",
    "    dataset = dataset.assign_coords({'number':membro})\n",
    "    \n",
    "    dataset = dataset.swap_dims({\"step\": \"valid_time\"}).drop(['step','isobaricInhPa']) #transforma valid_time em dim e retira a coord step\n",
    "    \n",
    "    valid_time = dataset.valid_time\n",
    "\n",
    "    ds = dataset.sel(valid_time = date_range)\n",
    "\n",
    "    group = ds.groupby('valid_time.month').mean()\n",
    "\n",
    "    # ds = group.to_dataframe()\n",
    "\n",
    "    data_list.append(group)\n",
    "\n",
    "    print(f\" Read: {membro} {q}\")\n",
    "# -------------------------------------------\n",
    "\n",
    "# Média mensal de psi\n",
    "df_concat= xr.concat(data_list,dim='time')\n",
    "mensal_med_psi = df_concat.strf.mean(dim='time')    \n"
   ]
  },
  {
   "cell_type": "code",
   "execution_count": 134,
   "metadata": {},
   "outputs": [],
   "source": [
    "df_concat= xr.concat(data_list,dim='time')\n",
    "mensal_med_psi = df_concat.strf.mean(dim='time')"
   ]
  },
  {
   "cell_type": "code",
   "execution_count": 143,
   "metadata": {},
   "outputs": [
    {
     "data": {
      "text/plain": [
       "<matplotlib.collections.QuadMesh at 0x7f963db568d0>"
      ]
     },
     "execution_count": 143,
     "metadata": {},
     "output_type": "execute_result"
    },
    {
     "data": {
      "image/png": "[encoded data removed]",
      "text/plain": [
       "<Figure size 640x480 with 2 Axes>"
      ]
     },
     "metadata": {},
     "output_type": "display_data"
    }
   ],
   "source": [
    "mensal_med_psi.sel(month = 8).plot()"
   ]
  },
  {
   "cell_type": "code",
   "execution_count": null,
   "metadata": {},
   "outputs": [],
   "source": []
  }
 ],
 "metadata": {
  "kernelspec": {
   "display_name": "env2",
   "language": "python",
   "name": "python3"
  },
  "language_info": {
   "codemirror_mode": {
    "name": "ipython",
    "version": 3
   },
   "file_extension": ".py",
   "mimetype": "text/x-python",
   "name": "python",
   "nbconvert_exporter": "python",
   "pygments_lexer": "ipython3",
   "version": "3.11.3"
  },
  "orig_nbformat": 4
 },
 "nbformat": 4,
 "nbformat_minor": 2
}
